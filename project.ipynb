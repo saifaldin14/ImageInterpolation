{
 "cells": [
  {
   "cell_type": "markdown",
   "metadata": {},
   "source": [
    "## Resize the lena image"
   ]
  },
  {
   "cell_type": "code",
   "execution_count": 16,
   "metadata": {},
   "outputs": [],
   "source": [
    "import cv2\n",
    "from PIL import Image\n",
    "\n",
    "# Open the original TIFF image\n",
    "image = Image.open('Images/lena.tif')\n",
    "\n",
    "# Get the original dimensions\n",
    "width, height = image.size\n",
    "\n",
    "# Calculate new dimensions (1/2 of the original in each dimension)\n",
    "down_width = width // 2\n",
    "down_height = height // 2\n",
    "\n",
    "# Resize the image\n",
    "downscaled_image = image.resize((down_width, down_height), Image.LANCZOS)"
   ]
  },
  {
   "cell_type": "markdown",
   "metadata": {},
   "source": [
    "## Nearest neighbor interpolation implementation from scratch"
   ]
  },
  {
   "cell_type": "code",
   "execution_count": 17,
   "metadata": {},
   "outputs": [],
   "source": [
    "from PIL import Image\n",
    "import numpy as np\n",
    "\n",
    "# Convert the image to a NumPy array\n",
    "downscaled_image_np = np.array(downscaled_image)\n",
    "\n",
    "# Create an empty array for the rescaled image (original dimensions)\n",
    "rescaled_image_np = np.zeros((height, width, 3), dtype=downscaled_image_np.dtype)\n",
    "\n",
    "# Nearest-neighbor interpolation\n",
    "for i in range(height):\n",
    "    for j in range(width):\n",
    "        # Find the nearest pixel in the downscaled image\n",
    "        nearest_i = int(i / 2)\n",
    "        nearest_j = int(j / 2)\n",
    "\n",
    "        # Assign the nearest pixel value to the rescaled image\n",
    "        rescaled_image_np[i, j] = downscaled_image_np[nearest_i, nearest_j]\n",
    "\n",
    "# Convert the NumPy array back to an image\n",
    "n_neighbor_scratch_image = Image.fromarray(rescaled_image_np)\n",
    "\n",
    "# Save the rescaled image\n",
    "n_neighbor_scratch_image.save('Results/Question 1/lena_nearest_scratch.tif')"
   ]
  },
  {
   "cell_type": "markdown",
   "metadata": {},
   "source": [
    "## Nearest neighbor interpolation using OpenCV"
   ]
  },
  {
   "cell_type": "code",
   "execution_count": 18,
   "metadata": {},
   "outputs": [],
   "source": [
    "# Convert the downscaled image to OpenCV format\n",
    "downscaled_image_cv = cv2.cvtColor(np.array(downscaled_image), cv2.COLOR_RGB2BGR)\n",
    "\n",
    "# Use OpenCV's resize function with INTER_NEAREST for nearest neighbor interpolation\n",
    "upscaled_image_cv = cv2.resize(downscaled_image_cv, (width, height), interpolation=cv2.INTER_NEAREST)\n",
    "\n",
    "# Convert back to PIL format to save as a TIFF image\n",
    "n_neighbor_cv_image = Image.fromarray(cv2.cvtColor(upscaled_image_cv, cv2.COLOR_BGR2RGB))\n",
    "\n",
    "# Save the rescaled image\n",
    "n_neighbor_cv_image.save('Results/Question 1/lena_nearest_cv.tif')"
   ]
  },
  {
   "cell_type": "markdown",
   "metadata": {},
   "source": [
    "## Bilinear Interpolation from Scratch"
   ]
  },
  {
   "cell_type": "code",
   "execution_count": 19,
   "metadata": {},
   "outputs": [],
   "source": [
    "# Convert the image to a NumPy array\n",
    "downscaled_array = np.array(downscaled_image)\n",
    "\n",
    "# Initialize an empty array for the upscaled image\n",
    "upscaled_array = np.zeros((height, width), dtype=downscaled_array.dtype)\n",
    "\n",
    "# Calculate scaling factors\n",
    "scale_x = down_width / width\n",
    "scale_y = down_height / height\n",
    "\n",
    "# Perform bilinear interpolation\n",
    "for i in range(height):\n",
    "    for j in range(width):\n",
    "        # Corresponding position in the downscaled image\n",
    "        x = j * scale_x\n",
    "        y = i * scale_y\n",
    "\n",
    "        # Coordinates of the top-left pixel\n",
    "        x0 = int(np.floor(x))\n",
    "        y0 = int(np.floor(y))\n",
    "\n",
    "        # Coordinates of the bottom-right pixel\n",
    "        x1 = min(x0 + 1, down_width - 1)\n",
    "        y1 = min(y0 + 1, down_height - 1)\n",
    "\n",
    "        # Differences\n",
    "        dx = x - x0\n",
    "        dy = y - y0\n",
    "\n",
    "        # Retrieve pixel values\n",
    "        Ia = downscaled_array[y0, x0]\n",
    "        Ib = downscaled_array[y1, x0]\n",
    "        Ic = downscaled_array[y0, x1]\n",
    "        Id = downscaled_array[y1, x1]\n",
    "\n",
    "        # Compute interpolated value\n",
    "        value = (1 - dx) * (1 - dy) * Ia + dx * (1 - dy) * Ic + (1 - dx) * dy * Ib + dx * dy * Id\n",
    "        upscaled_array[i, j] = np.clip(value, 0, 255)\n",
    "\n",
    "# Convert array back to image\n",
    "upscaled_image = Image.fromarray(upscaled_array.astype(np.uint8), mode='L')\n",
    "\n",
    "# Save the upscaled image\n",
    "upscaled_image.save('Results/Question 1/lena_bilinear_scratch.tif')"
   ]
  },
  {
   "cell_type": "markdown",
   "metadata": {},
   "source": [
    "## Bilinear Interpolation using OpenCV"
   ]
  },
  {
   "cell_type": "code",
   "execution_count": 20,
   "metadata": {},
   "outputs": [],
   "source": [
    "# Use OpenCV's resize function with INTER_LINEAR for bilinear interpolation\n",
    "upscaled_image_cv = cv2.resize(downscaled_image_cv, (width, height), interpolation=cv2.INTER_LINEAR)\n",
    "\n",
    "# Convert back to PIL format to save as a TIFF image\n",
    "bilinear_cv_image = Image.fromarray(cv2.cvtColor(upscaled_image_cv, cv2.COLOR_BGR2RGB))\n",
    "\n",
    "# Save the rescaled image\n",
    "bilinear_cv_image.save('Results/Question 1/lena_bilinear_cv.tif')"
   ]
  },
  {
   "cell_type": "markdown",
   "metadata": {},
   "source": [
    "## Bicubic Interpolation using OpenCV"
   ]
  },
  {
   "cell_type": "code",
   "execution_count": null,
   "metadata": {},
   "outputs": [],
   "source": [
    "# Use OpenCV's resize function with INTER_CUBIC for bicubic interpolation\n",
    "upscaled_image_cv = cv2.resize(downscaled_image_cv, (width, height), interpolation=cv2.INTER_CUBIC)\n",
    "\n",
    "# Convert back to PIL format to save as a TIFF image\n",
    "bicubic_cv_image = Image.fromarray(cv2.cvtColor(upscaled_image_cv, cv2.COLOR_BGR2RGB))\n",
    "\n",
    "# Save the rescaled image\n",
    "bicubic_cv_image.save('Results/Question 1/lena_bicubic_cv.tif')"
   ]
  }
 ],
 "metadata": {
  "kernelspec": {
   "display_name": "Python 3",
   "language": "python",
   "name": "python3"
  },
  "language_info": {
   "codemirror_mode": {
    "name": "ipython",
    "version": 3
   },
   "file_extension": ".py",
   "mimetype": "text/x-python",
   "name": "python",
   "nbconvert_exporter": "python",
   "pygments_lexer": "ipython3",
   "version": "3.12.4"
  }
 },
 "nbformat": 4,
 "nbformat_minor": 2
}
