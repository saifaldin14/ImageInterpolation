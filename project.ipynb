{
 "cells": [
  {
   "cell_type": "markdown",
   "metadata": {},
   "source": [
    "## Image Interpolation"
   ]
  },
  {
   "cell_type": "markdown",
   "metadata": {},
   "source": [
    "Resize the lena image so that it can be resized and interpolated"
   ]
  },
  {
   "cell_type": "code",
   "execution_count": 110,
   "metadata": {},
   "outputs": [],
   "source": [
    "import cv2\n",
    "\n",
    "# Load the image using OpenCV\n",
    "image = cv2.imread('Images/lena.tif')\n",
    "\n",
    "# Get original dimensions\n",
    "height, width = image.shape[:2]\n",
    "\n",
    "# Calculate new dimensions (1/2 of the original in each dimension)\n",
    "down_width = width // 2\n",
    "down_height = height // 2\n",
    "\n",
    "# Resize the image\n",
    "downscaled_image = cv2.resize(image, (down_width, down_height))"
   ]
  },
  {
   "cell_type": "markdown",
   "metadata": {},
   "source": [
    "Nearest neighbor interpolation implementation from scratch"
   ]
  },
  {
   "cell_type": "code",
   "execution_count": 111,
   "metadata": {},
   "outputs": [
    {
     "data": {
      "text/plain": [
       "True"
      ]
     },
     "execution_count": 111,
     "metadata": {},
     "output_type": "execute_result"
    }
   ],
   "source": [
    "import numpy as np\n",
    "\n",
    "# Create an empty matrix for the rescaled image (original dimensions)\n",
    "rescaled_image_np = np.zeros((height, width, 3), dtype=downscaled_image.dtype)\n",
    "\n",
    "# Nearest-neighbor interpolation\n",
    "for i in range(height):\n",
    "    for j in range(width):\n",
    "        # Find the nearest pixel in the downscaled image\n",
    "        nearest_i = int(i / 2)\n",
    "        nearest_j = int(j / 2)\n",
    "\n",
    "        # Assign the nearest pixel value to the rescaled image\n",
    "        rescaled_image_np[i, j] = downscaled_image[nearest_i, nearest_j]\n",
    "\n",
    "# Save the rescaled image using OpenCV\n",
    "cv2.imwrite('Results/Question 1/lena_nearest_scratch.tif', rescaled_image_np)"
   ]
  },
  {
   "cell_type": "markdown",
   "metadata": {},
   "source": [
    "Nearest neighbor interpolation using OpenCV"
   ]
  },
  {
   "cell_type": "code",
   "execution_count": 112,
   "metadata": {},
   "outputs": [
    {
     "data": {
      "text/plain": [
       "True"
      ]
     },
     "execution_count": 112,
     "metadata": {},
     "output_type": "execute_result"
    }
   ],
   "source": [
    "upscaled_image_cv = cv2.resize(downscaled_image, (width, height), interpolation=cv2.INTER_NEAREST)\n",
    "\n",
    "# Save the upscaled image using OpenCV\n",
    "cv2.imwrite('Results/Question 1/lena_nearest_cv.tif', upscaled_image_cv)"
   ]
  },
  {
   "cell_type": "markdown",
   "metadata": {},
   "source": [
    "Bilinear Interpolation from Scratch"
   ]
  },
  {
   "cell_type": "code",
   "execution_count": 113,
   "metadata": {},
   "outputs": [
    {
     "data": {
      "text/plain": [
       "True"
      ]
     },
     "execution_count": 113,
     "metadata": {},
     "output_type": "execute_result"
    }
   ],
   "source": [
    "downscaled_array = np.array(downscaled_image)\n",
    "\n",
    "# Initialize an empty array for the upscaled image\n",
    "rescaled_image_np = np.zeros((height, width, 3), dtype=downscaled_image.dtype)\n",
    "\n",
    "# Calculate scaling factors\n",
    "scale_x = (down_width - 1) / (width - 1)\n",
    "scale_y = (down_height - 1) / (height - 1)\n",
    "\n",
    "# Perform bilinear interpolation\n",
    "for i in range(height):\n",
    "    for j in range(width):\n",
    "        # Corresponding position in the downscaled image\n",
    "        x = j * scale_x\n",
    "        y = i * scale_y\n",
    "\n",
    "        # Coordinates of the top-left pixel\n",
    "        x0 = int(np.floor(x))\n",
    "        y0 = int(np.floor(y))\n",
    "\n",
    "        # Coordinates of the bottom-right pixel\n",
    "        x1 = min(x0 + 1, down_width - 1)\n",
    "        y1 = min(y0 + 1, down_height - 1)\n",
    "\n",
    "        # Calculate the fractional distance between the pixel and the top-left corner\n",
    "        dx = x - x0\n",
    "        dy = y - y0\n",
    "\n",
    "        # Retrieve pixel values of the four neighboring pixels\n",
    "        Ia = downscaled_array[y0, x0]  # Top-left\n",
    "        Ib = downscaled_array[y1, x0]  # Bottom-left\n",
    "        Ic = downscaled_array[y0, x1]  # Top-right\n",
    "        Id = downscaled_array[y1, x1]  # Bottom-right\n",
    "\n",
    "        # Compute interpolated value\n",
    "        top_left_pixel = (1 - dx) * (1 - dy) * Ia\n",
    "        top_right_pixel = dx * (1 - dy) * Ic\n",
    "        bottom_left_pixel = (1 - dx) * dy * Ib\n",
    "        bottom_right_pixel = dx * dy * Id\n",
    "\n",
    "        # Calculate the weighted average\n",
    "        weighted_average = top_left_pixel + top_right_pixel + bottom_left_pixel + bottom_right_pixel\n",
    "    \n",
    "        # Assign the interpolated value to the upscaled image\n",
    "        rescaled_image_np[i, j] = np.clip(np.round(weighted_average), 0, 255)\n",
    "\n",
    "cv2.imwrite('Results/Question 1/lena_bilinear_scratch.tif', rescaled_image_np)"
   ]
  },
  {
   "cell_type": "markdown",
   "metadata": {},
   "source": [
    "Bilinear Interpolation using OpenCV"
   ]
  },
  {
   "cell_type": "code",
   "execution_count": 114,
   "metadata": {},
   "outputs": [
    {
     "data": {
      "text/plain": [
       "True"
      ]
     },
     "execution_count": 114,
     "metadata": {},
     "output_type": "execute_result"
    }
   ],
   "source": [
    "upscaled_image_cv = cv2.resize(downscaled_image, (width, height), interpolation=cv2.INTER_LINEAR)\n",
    "\n",
    "# Save the upscaled image using OpenCV\n",
    "cv2.imwrite('Results/Question 1/lena_bilinear_cv.tif', upscaled_image_cv)"
   ]
  },
  {
   "cell_type": "markdown",
   "metadata": {},
   "source": [
    "Bicubic Interpolation using OpenCV"
   ]
  },
  {
   "cell_type": "code",
   "execution_count": 115,
   "metadata": {},
   "outputs": [
    {
     "data": {
      "text/plain": [
       "True"
      ]
     },
     "execution_count": 115,
     "metadata": {},
     "output_type": "execute_result"
    }
   ],
   "source": [
    "upscaled_image_cv = cv2.resize(downscaled_image, (width, height), interpolation=cv2.INTER_CUBIC)\n",
    "\n",
    "# Save the upscaled image using OpenCV\n",
    "cv2.imwrite('Results/Question 1/lena_bicubic_cv.tif', upscaled_image_cv)"
   ]
  },
  {
   "cell_type": "markdown",
   "metadata": {},
   "source": [
    "# Bonus\n",
    "\n",
    "Quantitively compare the quality of the images using MSE"
   ]
  },
  {
   "cell_type": "code",
   "execution_count": 116,
   "metadata": {},
   "outputs": [
    {
     "name": "stdout",
     "output_type": "stream",
     "text": [
      "Mean Squared Error between Original and Interpolated Images:\n",
      "Nearest Neighbor (Scratch): MSE = 111.81\n",
      "Nearest Neighbor (OpenCV): MSE = 111.81\n",
      "Bilinear (Scratch): MSE = 109.92\n",
      "Bilinear (OpenCV): MSE = 99.30\n",
      "Bicubic (OpenCV): MSE = 76.87\n"
     ]
    }
   ],
   "source": [
    "import cv2\n",
    "import numpy as np\n",
    "\n",
    "def compute_mse(image1_path, image2_path):\n",
    "    \"\"\"\n",
    "    Computes the Mean Squared Error between two images.\n",
    "\n",
    "    Parameters:\n",
    "        image1_path (str): Path to the first image (original image).\n",
    "        image2_path (str): Path to the second image (interpolated image).\n",
    "\n",
    "    Returns:\n",
    "        float: The MSE between the two images.\n",
    "    \"\"\"\n",
    "    # Load images using OpenCV\n",
    "    img1 = cv2.imread(image1_path)\n",
    "    img2 = cv2.imread(image2_path)\n",
    "\n",
    "    # Convert images to float64 for the MSE calculation\n",
    "    img1_np = np.array(img1, dtype=np.float64)\n",
    "    img2_np = np.array(img2, dtype=np.float64)\n",
    "\n",
    "    # Compute the Mean Squared Error\n",
    "    mse = np.mean((img1_np - img2_np) ** 2)\n",
    "    return mse\n",
    "\n",
    "# Define paths\n",
    "resultsPath = 'Results/Question 1/'\n",
    "original_image_path = 'Images/lena.tif'\n",
    "\n",
    "interpolated_images = {\n",
    "    'Nearest Neighbor (Scratch)': f'{resultsPath}lena_nearest_scratch.tif',\n",
    "    'Nearest Neighbor (OpenCV)': f'{resultsPath}lena_nearest_cv.tif',\n",
    "    'Bilinear (Scratch)': f'{resultsPath}lena_bilinear_scratch.tif',\n",
    "    'Bilinear (OpenCV)': f'{resultsPath}lena_bilinear_cv.tif',\n",
    "    'Bicubic (OpenCV)': f'{resultsPath}lena_bicubic_cv.tif'\n",
    "}\n",
    "\n",
    "# Compute and print the MSE for each interpolated image\n",
    "print(\"Mean Squared Error between Original and Interpolated Images:\")\n",
    "for method, image_path in interpolated_images.items():\n",
    "    try:\n",
    "        mse = compute_mse(original_image_path, image_path)\n",
    "        print(f\"{method}: MSE = {mse:.2f}\")\n",
    "    except Exception as e:\n",
    "        print(f\"{method}: Error - {e}\")"
   ]
  },
  {
   "cell_type": "markdown",
   "metadata": {},
   "source": [
    "## Point Operations"
   ]
  },
  {
   "cell_type": "markdown",
   "metadata": {},
   "source": [
    "Get Negative Image"
   ]
  },
  {
   "cell_type": "code",
   "execution_count": 117,
   "metadata": {},
   "outputs": [
    {
     "data": {
      "text/plain": [
       "True"
      ]
     },
     "execution_count": 117,
     "metadata": {},
     "output_type": "execute_result"
    }
   ],
   "source": [
    "# Load the image using OpenCV in grayscale mode\n",
    "image_path = 'Images/cameraman.tif'\n",
    "img = cv2.imread(image_path, cv2.IMREAD_GRAYSCALE)\n",
    "\n",
    "# Negative of the image\n",
    "def negative_image(image_np):\n",
    "    return 255 - image_np\n",
    "\n",
    "# Apply the negative transformation\n",
    "cameraman_negative = negative_image(img)\n",
    "\n",
    "# Save the negative image using OpenCV\n",
    "resultsPath = 'Results/Question 2/'\n",
    "cv2.imwrite(f'{resultsPath}cameraman_negative.tif', cameraman_negative)"
   ]
  },
  {
   "cell_type": "markdown",
   "metadata": {},
   "source": [
    "Power-Law Transformation"
   ]
  },
  {
   "cell_type": "code",
   "execution_count": 118,
   "metadata": {},
   "outputs": [
    {
     "data": {
      "text/plain": [
       "True"
      ]
     },
     "execution_count": 118,
     "metadata": {},
     "output_type": "execute_result"
    }
   ],
   "source": [
    "# Power-Law Transformation (Gamma Correction)\n",
    "def power_law_transformation(image_np, gamma, c=1):\n",
    "    # Normalize the image to the range [0, 1]\n",
    "    normalized_img = image_np / 255.0\n",
    "\n",
    "    # Apply the power-law transformation\n",
    "    transformed_img = c * np.power(normalized_img, gamma)\n",
    "\n",
    "    # Scale back to [0, 255] and cast to uint8\n",
    "    return np.uint8(transformed_img * 255)\n",
    "\n",
    "gamma_value = 1.5\n",
    "cameraman_power = power_law_transformation(img, gamma_value)\n",
    "\n",
    "resultsPath = 'Results/Question 2/'\n",
    "cv2.imwrite(f'{resultsPath}cameraman_power.tif', cameraman_power)"
   ]
  },
  {
   "cell_type": "markdown",
   "metadata": {},
   "source": [
    "Bit-Plane Slicing"
   ]
  },
  {
   "cell_type": "code",
   "execution_count": 119,
   "metadata": {},
   "outputs": [],
   "source": [
    "# Bit-Plane Slicing function\n",
    "def bit_plane_slicing(image_np, bit):\n",
    "    # Shift the bits and apply bitwise AND with 1 to extract the bit-plane\n",
    "    return (image_np >> bit) & 1\n",
    "\n",
    "# Save bit-plane images using OpenCV\n",
    "resultsPath = 'Results/Question 2/'\n",
    "for i in range(8):\n",
    "    # Perform bit-plane slicing\n",
    "    bit_plane_image = bit_plane_slicing(img, i) * 255  # Scale to [0, 255]\n",
    "    \n",
    "    # Save the bit-plane image using OpenCV\n",
    "    cv2.imwrite(f'{resultsPath}cameraman_b{i+1}.tif', np.uint8(bit_plane_image))"
   ]
  },
  {
   "cell_type": "markdown",
   "metadata": {},
   "source": [
    "## Histogram Processing"
   ]
  },
  {
   "cell_type": "markdown",
   "metadata": {},
   "source": [
    "Histogram Equalization"
   ]
  },
  {
   "cell_type": "code",
   "execution_count": 120,
   "metadata": {},
   "outputs": [
    {
     "data": {
      "text/plain": [
       "True"
      ]
     },
     "execution_count": 120,
     "metadata": {},
     "output_type": "execute_result"
    }
   ],
   "source": [
    "# Load the image using OpenCV in grayscale mode\n",
    "image_path = 'Images/einstein.tif'\n",
    "img = cv2.imread(image_path, cv2.IMREAD_GRAYSCALE)\n",
    "\n",
    "# Compute the histogram\n",
    "hist, bins = np.histogram(img.flatten(), bins=256, range=[0,256])\n",
    "cdf = hist.cumsum()  # Cumulative distribution function\n",
    "cdf_normalized = cdf * 255 / cdf[-1]  # Normalize to range [0, 255]\n",
    "\n",
    "# Use linear interpolation of the CDF to find new pixel values\n",
    "img_equalized_np = np.interp(img.flatten(), bins[:-1], cdf_normalized)\n",
    "\n",
    "# Reshape the flattened array back to the original image shape\n",
    "img_equalized_np = img_equalized_np.reshape(img.shape).astype('uint8')\n",
    "\n",
    "# Save the equalized image using OpenCV\n",
    "resultsPath = 'Results/Question 3/'\n",
    "cv2.imwrite(f'{resultsPath}einstein_equalized.tif', img_equalized_np)"
   ]
  },
  {
   "cell_type": "markdown",
   "metadata": {},
   "source": [
    "Histogram Matching"
   ]
  },
  {
   "cell_type": "code",
   "execution_count": 121,
   "metadata": {},
   "outputs": [
    {
     "data": {
      "text/plain": [
       "True"
      ]
     },
     "execution_count": 121,
     "metadata": {},
     "output_type": "execute_result"
    }
   ],
   "source": [
    "def histogram_matching(source, template):\n",
    "    \"\"\"\n",
    "    Adjust the pixel values of a grayscale image such that its histogram\n",
    "    matches that of a target image.\n",
    "\n",
    "    Parameters:\n",
    "    - source: NumPy array of the source image\n",
    "    - template: NumPy array of the template image (reference)\n",
    "\n",
    "    Returns:\n",
    "    - matched: NumPy array of the transformed output image\n",
    "    \"\"\"\n",
    "    # Flatten the images\n",
    "    source_flat = source.ravel()\n",
    "    template_flat = template.ravel()\n",
    "\n",
    "    # Get the set of unique pixel values and their corresponding indices and counts\n",
    "    _, bin_idx, s_counts = np.unique(source_flat, return_inverse=True, return_counts=True)\n",
    "    t_values, t_counts = np.unique(template_flat, return_counts=True)\n",
    "\n",
    "    # Compute the normalized CDFs\n",
    "    s_quantiles = np.cumsum(s_counts).astype(np.float64) / source_flat.size\n",
    "    t_quantiles = np.cumsum(t_counts).astype(np.float64) / template_flat.size\n",
    "\n",
    "    # Create interpolation function (inverse CDF of the template)\n",
    "    interp_t_values = np.interp(s_quantiles, t_quantiles, t_values)\n",
    "\n",
    "    # Map the pixel values of the source image to the template\n",
    "    matched = interp_t_values[bin_idx].reshape(source.shape).astype('uint8')\n",
    "\n",
    "    return matched\n",
    "\n",
    "# Load the source and template images using OpenCV in grayscale mode\n",
    "source_image_path = 'Images/chest_x-ray1.jpeg'\n",
    "template_image_path = 'Images/chest_x-ray2.jpeg'\n",
    "\n",
    "source_img = cv2.imread(source_image_path, cv2.IMREAD_GRAYSCALE)\n",
    "template_img = cv2.imread(template_image_path, cv2.IMREAD_GRAYSCALE)\n",
    "\n",
    "# Apply histogram matching\n",
    "matched_np = histogram_matching(source_img, template_img)\n",
    "\n",
    "# Save the output image using OpenCV\n",
    "resultsPath = 'Results/Question 3/'\n",
    "cv2.imwrite(f'{resultsPath}chest_x-ray3.jpeg', matched_np)"
   ]
  }
 ],
 "metadata": {
  "kernelspec": {
   "display_name": "base",
   "language": "python",
   "name": "python3"
  },
  "language_info": {
   "codemirror_mode": {
    "name": "ipython",
    "version": 3
   },
   "file_extension": ".py",
   "mimetype": "text/x-python",
   "name": "python",
   "nbconvert_exporter": "python",
   "pygments_lexer": "ipython3",
   "version": "3.12.4"
  }
 },
 "nbformat": 4,
 "nbformat_minor": 2
}
