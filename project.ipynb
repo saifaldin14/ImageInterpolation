{
 "cells": [
  {
   "cell_type": "markdown",
   "metadata": {},
   "source": [
    "## Resize the lena image"
   ]
  },
  {
   "cell_type": "code",
   "execution_count": 4,
   "metadata": {},
   "outputs": [],
   "source": [
    "from PIL import Image\n",
    "\n",
    "# Open the original TIFF image\n",
    "image = Image.open('Images/lena.tif')\n",
    "\n",
    "# Get the original dimensions\n",
    "width, height = image.size\n",
    "\n",
    "# Calculate new dimensions (1/2 of the original in each dimension)\n",
    "new_width = width // 2\n",
    "new_height = height // 2\n",
    "\n",
    "# Resize the image\n",
    "downscaled_image = image.resize((new_width, new_height), Image.LANCZOS)"
   ]
  },
  {
   "cell_type": "markdown",
   "metadata": {},
   "source": [
    "## Nearest neighbor interpolation implementation from scratc"
   ]
  },
  {
   "cell_type": "code",
   "execution_count": 5,
   "metadata": {},
   "outputs": [],
   "source": [
    "from PIL import Image\n",
    "import numpy as np\n",
    "\n",
    "# Convert the image to a NumPy array\n",
    "downscaled_image_np = np.array(downscaled_image)\n",
    "\n",
    "# Create an empty array for the rescaled image (original dimensions)\n",
    "rescaled_image_np = np.zeros((height, width, 3), dtype=downscaled_image_np.dtype)\n",
    "\n",
    "# Nearest-neighbor interpolation\n",
    "for i in range(height):\n",
    "    for j in range(width):\n",
    "        # Find the nearest pixel in the downscaled image\n",
    "        nearest_i = int(i / 2)\n",
    "        nearest_j = int(j / 2)\n",
    "\n",
    "        # Assign the nearest pixel value to the rescaled image\n",
    "        rescaled_image_np[i, j] = downscaled_image_np[nearest_i, nearest_j]\n",
    "\n",
    "# Convert the NumPy array back to an image\n",
    "rescaled_image = Image.fromarray(rescaled_image_np)\n",
    "\n",
    "# Save the rescaled image\n",
    "rescaled_image.save('Results/Question 1/upscaled_image_nearest_neighbor_scratch.tif')"
   ]
  }
 ],
 "metadata": {
  "kernelspec": {
   "display_name": "Python 3",
   "language": "python",
   "name": "python3"
  },
  "language_info": {
   "codemirror_mode": {
    "name": "ipython",
    "version": 3
   },
   "file_extension": ".py",
   "mimetype": "text/x-python",
   "name": "python",
   "nbconvert_exporter": "python",
   "pygments_lexer": "ipython3",
   "version": "3.9.6"
  }
 },
 "nbformat": 4,
 "nbformat_minor": 2
}
